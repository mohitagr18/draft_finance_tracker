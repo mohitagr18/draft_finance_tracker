{
 "cells": [
  {
   "cell_type": "markdown",
   "id": "87f5694b",
   "metadata": {},
   "source": [
    "Test NB"
   ]
  },
  {
   "cell_type": "code",
   "execution_count": 10,
   "id": "9ec9a29c",
   "metadata": {},
   "outputs": [],
   "source": [
    "import asyncio\n",
    "import json\n",
    "from autogen_agentchat.agents import AssistantAgent, CodeExecutorAgent, UserProxyAgent\n",
    "from autogen_agentchat.messages import TextMessage\n",
    "from autogen_agentchat.teams import RoundRobinGroupChat\n",
    "from autogen_agentchat.conditions import TextMentionTermination, MaxMessageTermination\n",
    "from agents.prompts.unstructured_text_parser_message import UNSTRUCTURED_TEXT_PARSER_SYSTEM_MESSAGE\n",
    "from autogen_ext.models.openai import OpenAIChatCompletionClient\n",
    "from typing import List, Dict\n",
    "import pandas as pd\n",
    "import json\n",
    "import pypdf\n",
    "from dotenv import load_dotenv\n",
    "import os\n"
   ]
  },
  {
   "cell_type": "code",
   "execution_count": 2,
   "id": "ab7becfa",
   "metadata": {},
   "outputs": [
    {
     "data": {
      "text/plain": [
       "True"
      ]
     },
     "execution_count": 2,
     "metadata": {},
     "output_type": "execute_result"
    }
   ],
   "source": [
    "load_dotenv()"
   ]
  },
  {
   "cell_type": "code",
   "execution_count": 3,
   "id": "68355184",
   "metadata": {},
   "outputs": [],
   "source": [
    "\n",
    "def extract_text_from_pdf(file_path: str) -> str:\n",
    "    \"\"\"\n",
    "    Extracts all text content from a given PDF file.\n",
    "\n",
    "    This tool's purpose is to provide the raw text data from a PDF to an LLM agent.\n",
    "    The agent will then be responsible for writing code to parse this unstructured text.\n",
    "\n",
    "    Args:\n",
    "        file_path (str): The local path to the PDF file.\n",
    "\n",
    "    Returns:\n",
    "        str: A single string containing all the extracted text from the PDF.\n",
    "             Returns an error message string if extraction fails.\n",
    "    \"\"\"\n",
    "    try:\n",
    "        reader = pypdf.PdfReader(file_path)\n",
    "        full_text = \"\"\n",
    "        for page in reader.pages:\n",
    "            full_text += page.extract_text() + \"\\n--- End of Page ---\\n\"\n",
    "        return full_text\n",
    "    except Exception as e:\n",
    "        return f\"Error extracting text from PDF: {str(e)}\"\n"
   ]
  },
  {
   "cell_type": "code",
   "execution_count": 4,
   "id": "d96172f5",
   "metadata": {},
   "outputs": [],
   "source": [
    "parsed_text = extract_text_from_pdf('temp/test_statement.pdf')"
   ]
  },
  {
   "cell_type": "code",
   "execution_count": 5,
   "id": "5824ad8f",
   "metadata": {},
   "outputs": [
    {
     "data": {
      "text/plain": [
       "\" \\n \\n863300\\nMOHIT AGGARWAL\\n \\n15237 BROOKSTONE ST\\n \\nFONTANA  CA  92336-4051\\nCostco Anywhere Visa\\n®\\n Card by Citi\\nMOHIT AGGARWAL\\nMember Since 2014  Account number ending in: 8633 \\nBilling Period: \\n 07/02/25-08/01/25\\nBilling Inquiries and Customer Service\\nPO Box 790046 ST. LOUIS, MO 63179-0046\\n1-855-378-6467, (TTY: 711)\\nwww.citicards.com\\nAUGUST  STATEMENT\\nMinimum payment due:\\n \\n$41.00\\nNew balance as of 08/01/25:\\n \\n$910.51\\nPayment due date:\\n \\n08/27/25\\nLate Payment Warning:\\nIf we do not receive your Minimum Payment by the\\n \\ndate listed above, you may have to pay a late fee of up to $41 and your APRs\\n \\nmay be increased up to the Penalty APR of 29.99%.\\nFor information about credit counseling services, call 1-877-337-8187 (TTY: 711). \\nAccount Summary\\nPrevious balance\\n \\n$1,041.44\\nPayments\\n-\\n$1,041.44\\nCredits\\n-\\n$36.28\\nPurchases\\n \\n+$946.79\\nCash advances\\n \\n+$0.00\\nFees\\n \\n+$0.00\\nInterest\\n \\n+$0.00\\nNew balance\\n \\n$910.51\\nCredit Limit\\nCredit Limit\\n \\n$7,000\\nIncludes $1,400.00 cash advance limit\\nAvailable Credit Limit\\n \\n$6,089\\nIncludes $1,400\\n \\navailable for cash advance\\nCostco Cash Back\\n \\nRewards Summary\\nas of 08/01/25\\n$179.26\\n» See page 3 for more information\\n \\nabout your rewards\\nFor Payments, send check to: Citi Cards, PO BOX 60734, City of Industry CA, 91716-0734\\nCostco Anywhere Visa\\n®\\n Card\\nPO Box 790057\\n \\nSaint Louis, MO 63179-0057\\nYour Monthly Statement\\n \\nis Enclosed\\nPay your bill from virtually anywhere with the\\n \\nCiti Mobile\\n®\\n App and Citi\\n®\\n Online\\nTo download:\\n \\nText \\n'App15'\\n to \\nMyCiti (692484)\\n \\nor go to your device's app store.\\n \\nOr visit \\nwww.citicards.com\\n \\n   \\nMinimum payment due\\n \\n$41.00\\nNew balance\\n \\n$910.51\\nPayment due date\\n \\n08/27/25\\nAmount enclosed: \\n$\\nAccount number ending in 8633 \\nPlease make check payable to Citi Cards.\\nCiti Cards\\n \\nPO BOX 60734\\n \\nCity of Industry CA 91716-0734\\n  \\n--- End of Page ---\\n \\n \\n \\n \\n \\n \\n \\n \\n \\n \\n \\n \\n \\n \\n \\n \\n           \\n           \\n863300\\nCARDHOLDER SUMMARY\\nMOHIT AGGARWAL\\n \\nCard ending in 8633\\nNew Charges\\n \\n$451.75\\nHIMANI SOOD\\n \\nCard ending in 1325\\nNew Charges\\n \\n$495.04\\nACCOUNT SUMMARY\\nSale\\n \\nDate\\nPost\\n \\nDate\\nDescription\\nAmount\\nPayments, Credits and Adjustments\\n07/22\\nELECTRONIC PAYMENT-THANK YOU\\n-\\n$1,041.44\\n06/30\\n07/02\\nHEADWAY                  NEW YORK     NY\\n-\\n$10.00\\n07/10\\n07/10\\nHEADWAY                  NEW YORK     NY\\n-\\n$10.00\\n07/16\\n07/16\\nCOSTCO WHSE #0627        FONTANA      CA\\n-\\n$16.28\\nMOHIT AGGARWAL \\nStandard Purchases\\n07/05\\n07/05\\nHEADWAY                  HEADWAY.CO   NY\\n $10.00 \\n07/06\\n07/06\\nCOSTCO WHSE #0678        RANCHO CUCAMOCA\\n $312.41 \\n07/12\\n07/12\\nTRADER JOE S #217        RANCHO CUCAMOCA\\n $66.64 \\n07/12\\n07/12\\nSQ *HANDEL'S RANCHO CUCAMRancho\\n \\nCucamoCA\\n $13.50 \\n07/13\\n07/13\\nHEADWAY                  HEADWAY.CO   NY\\n $10.00 \\n07/13\\n07/13\\nDESI BAZAAR CASH AND CAR RANCHO\\n \\nCUCAMOCA\\n $1.99 \\n07/13\\n07/13\\nHOMEGOODS 275            RCH CUCAMONGACA\\n $18.31 \\n07/14\\n07/14\\nALDI 79061               FONTANA      CA\\n $8.91 \\n07/14\\n07/14\\nRING STANDARD PLAN       RING.COM     CA\\n $9.99 \\nHIMANI SOOD \\nStandard Purchases\\n07/03\\n07/03\\nCOSTCO GAS #0686         MONTCLAIR    CA\\n $42.49 \\n07/08\\n07/08\\nCOSTCO WHSE #0627        FONTANA      CA\\n $2.71 \\n07/08\\n07/08\\nCOSTCO WHSE #0627        FONTANA      CA\\n $145.98 \\n07/14\\n07/14\\nCOSTCO GAS #0686         MONTCLAIR    CA\\n $40.09 \\n07/16\\n07/16\\nCOSTCO WHSE #0627        FONTANA      CA\\n $186.02 \\n07/17\\n07/17\\nUBER   *EATS             HELP.UBER.COMCA\\n $35.31 \\n07/24\\n07/24\\nCOSTCO GAS #0478         SAN BERNARDINCA\\n $42.44 \\nFees Charged\\nTOTAL FEES FOR THIS PERIOD\\n$0.00\\nInterest Charged\\nTOTAL INTEREST FOR THIS PERIOD\\n$0.00\\n2025 totals year-to-date\\nTotal fees charged in 2025\\n \\n$0.00\\nTotal interest charged in 2025\\n \\n$0.00\\nCostco Cash Back\\n \\nRewards Summary\\nTotal Costco\\n \\nCash Back Rewards Balance:\\n$179.26\\nCostco Cash Back Rewards Summary\\nCostco Cash Back Rewards balance as of\\n \\nlast statement   .................................... +$158.15\\nEarned this period .................................. +$21.11\\nTotal Costco Cash Back Rewards Balance\\n \\nYear to Date :\\n \\n$179.26\\nCostco Cash Back Rewards\\n \\nEarned This Period\\n5% on gas at Costco\\n............................. +$6.24\\n4% on other eligible gas\\n \\nand EV charging....................................... +$0.00\\n5% and 4% earn is on a combined $7,000\\n \\nspend per year, 1% thereafter\\n3% on restaurants.................................... +$1.06\\n3% on eligible travel ............................... +$0.00\\n2% on Costco and Costco.com\\n \\npurchases ................................................. +$12.61\\n1% on all other purchases....................... +$1.20\\nTotal Earned:\\n \\n$21.11\\n» Visit \\nCiti.com/Costco\\n \\nfor more information\\nPage 3 of 4\\nwww.citicards.com\\nCustomer Service\\n \\n1-855-378-6467\\n(TTY: 711)\\nMOHIT AGGARWAL\\n--- End of Page ---\\n\""
      ]
     },
     "execution_count": 5,
     "metadata": {},
     "output_type": "execute_result"
    }
   ],
   "source": [
    "parsed_text"
   ]
  },
  {
   "cell_type": "markdown",
   "id": "7a874dd1",
   "metadata": {},
   "source": [
    "\" \\n \\n863300\\nMOHIT AGGARWAL\\n \\n15237 BROOKSTONE ST\\n \\nFONTANA  CA  92336-4051\\nCostco Anywhere Visa\\n®\\n Card by Citi\\nMOHIT AGGARWAL\\nMember Since 2014  Account number ending in: 8633 \\nBilling Period: \\n 07/02/25-08/01/25\\nBilling Inquiries and Customer Service\\nPO Box 790046 ST. LOUIS, MO 63179-0046\\n1-855-378-6467, (TTY: 711)\\nwww.citicards.com\\nAUGUST  STATEMENT\\nMinimum payment due:\\n \\n$41.00\\nNew balance as of 08/01/25:\\n \\n$910.51\\nPayment due date:\\n \\n08/27/25\\nLate Payment Warning:\\nIf we do not receive your Minimum Payment by the\\n \\ndate listed above, you may have to pay a late fee of up to $41 and your APRs\\n \\nmay be increased up to the Penalty APR of 29.99%.\\nFor information about credit counseling services, call 1-877-337-8187 (TTY: 711). \\nAccount Summary\\nPrevious balance\\n \\n$1,041.44\\nPayments\\n-\\n$1,041.44\\nCredits\\n-\\n$36.28\\nPurchases\\n \\n+$946.79\\nCash advances\\n \\n+$0.00\\nFees\\n \\n+$0.00\\nInterest\\n \\n+$0.00\\nNew balance\\n \\n$910.51\\nCredit Limit\\nCredit Limit\\n \\n$7,000\\nIncludes $1,400.00 cash advance limit\\nAvailable Credit Limit\\n \\n$6,089\\nIncludes $1,400\\n \\navailable for cash advance\\nCostco Cash Back\\n \\nRewards Summary\\nas of 08/01/25\\n$179.26\\n» See page 3 for more information\\n \\nabout your rewards\\nFor Payments, send check to: Citi Cards, PO BOX 60734, City of Industry CA, 91716-0734\\nCostco Anywhere Visa\\n®\\n Card\\nPO Box 790057\\n \\nSaint Louis, MO 63179-0057\\nYour Monthly Statement\\n \\nis Enclosed\\nPay your bill from virtually anywhere with the\\n \\nCiti Mobile\\n®\\n App and Citi\\n®\\n Online\\nTo download:\\n \\nText \\n'App15'\\n to \\nMyCiti (692484)\\n \\nor go to your device's app store.\\n \\nOr visit \\nwww.citicards.com\\n \\n   \\nMinimum payment due\\n \\n$41.00\\nNew balance\\n \\n$910.51\\nPayment due date\\n \\n08/27/25\\nAmount enclosed: \\n$\\nAccount number ending in 8633 \\nPlease make check payable to Citi Cards.\\nCiti Cards\\n \\nPO BOX 60734\\n \\nCity of Industry CA 91716-0734\\n  \\n--- End of Page ---\\n \\n \\n \\n \\n \\n \\n \\n \\n \\n \\n \\n \\n \\n \\n \\n \\n           \\n           \\n863300\\nCARDHOLDER SUMMARY\\nMOHIT AGGARWAL\\n \\nCard ending in 8633\\nNew Charges\\n \\n$451.75\\nHIMANI SOOD\\n \\nCard ending in 1325\\nNew Charges\\n \\n$495.04\\nACCOUNT SUMMARY\\nSale\\n \\nDate\\nPost\\n \\nDate\\nDescription\\nAmount\\nPayments, Credits and Adjustments\\n07/22\\nELECTRONIC PAYMENT-THANK YOU\\n-\\n$1,041.44\\n06/30\\n07/02\\nHEADWAY                  NEW YORK     NY\\n-\\n$10.00\\n07/10\\n07/10\\nHEADWAY                  NEW YORK     NY\\n-\\n$10.00\\n07/16\\n07/16\\nCOSTCO WHSE #0627        FONTANA      CA\\n-\\n$16.28\\nMOHIT AGGARWAL \\nStandard Purchases\\n07/05\\n07/05\\nHEADWAY                  HEADWAY.CO   NY\\n $10.00 \\n07/06\\n07/06\\nCOSTCO WHSE #0678        RANCHO CUCAMOCA\\n $312.41 \\n07/12\\n07/12\\nTRADER JOE S #217        RANCHO CUCAMOCA\\n $66.64 \\n07/12\\n07/12\\nSQ *HANDEL'S RANCHO CUCAMRancho\\n \\nCucamoCA\\n $13.50 \\n07/13\\n07/13\\nHEADWAY                  HEADWAY.CO   NY\\n $10.00 \\n07/13\\n07/13\\nDESI BAZAAR CASH AND CAR RANCHO\\n \\nCUCAMOCA\\n $1.99 \\n07/13\\n07/13\\nHOMEGOODS 275            RCH CUCAMONGACA\\n $18.31 \\n07/14\\n07/14\\nALDI 79061               FONTANA      CA\\n $8.91 \\n07/14\\n07/14\\nRING STANDARD PLAN       RING.COM     CA\\n $9.99 \\nHIMANI SOOD \\nStandard Purchases\\n07/03\\n07/03\\nCOSTCO GAS #0686         MONTCLAIR    CA\\n $42.49 \\n07/08\\n07/08\\nCOSTCO WHSE #0627        FONTANA      CA\\n $2.71 \\n07/08\\n07/08\\nCOSTCO WHSE #0627        FONTANA      CA\\n $145.98 \\n07/14\\n07/14\\nCOSTCO GAS #0686         MONTCLAIR    CA\\n $40.09 \\n07/16\\n07/16\\nCOSTCO WHSE #0627        FONTANA      CA\\n $186.02 \\n07/17\\n07/17\\nUBER   *EATS             HELP.UBER.COMCA\\n $35.31 \\n07/24\\n07/24\\nCOSTCO GAS #0478         SAN BERNARDINCA\\n $42.44 \\nFees Charged\\nTOTAL FEES FOR THIS PERIOD\\n$0.00\\nInterest Charged\\nTOTAL INTEREST FOR THIS PERIOD\\n$0.00\\n2025 totals year-to-date\\nTotal fees charged in 2025\\n \\n$0.00\\nTotal interest charged in 2025\\n \\n$0.00\\nCostco Cash Back\\n \\nRewards Summary\\nTotal Costco\\n \\nCash Back Rewards Balance:\\n$179.26\\nCostco Cash Back Rewards Summary\\nCostco Cash Back Rewards balance as of\\n \\nlast statement   .................................... +$158.15\\nEarned this period .................................. +$21.11\\nTotal Costco Cash Back Rewards Balance\\n \\nYear to Date :\\n \\n$179.26\\nCostco Cash Back Rewards\\n \\nEarned This Period\\n5% on gas at Costco\\n............................. +$6.24\\n4% on other eligible gas\\n \\nand EV charging....................................... +$0.00\\n5% and 4% earn is on a combined $7,000\\n \\nspend per year, 1% thereafter\\n3% on restaurants.................................... +$1.06\\n3% on eligible travel ............................... +$0.00\\n2% on Costco and Costco.com\\n \\npurchases ................................................. +$12.61\\n1% on all other purchases....................... +$1.20\\nTotal Earned:\\n \\n$21.11\\n» Visit \\nCiti.com/Costco\\n \\nfor more information\\nPage 3 of 4\\nwww.citicards.com\\nCustomer Service\\n \\n1-855-378-6467\\n(TTY: 711)\\nMOHIT AGGARWAL\\n--- End of Page ---\\n\""
   ]
  },
  {
   "cell_type": "code",
   "execution_count": 6,
   "id": "33b557f9",
   "metadata": {},
   "outputs": [
    {
     "data": {
      "text/plain": [
       "str"
      ]
     },
     "execution_count": 6,
     "metadata": {},
     "output_type": "execute_result"
    }
   ],
   "source": [
    "type(parsed_text)"
   ]
  },
  {
   "cell_type": "markdown",
   "id": "f9fc09da",
   "metadata": {},
   "source": []
  },
  {
   "cell_type": "code",
   "execution_count": 7,
   "id": "0d0cbd52",
   "metadata": {},
   "outputs": [
    {
     "ename": "TypeError",
     "evalue": "Workbench() takes no arguments",
     "output_type": "error",
     "traceback": [
      "\u001b[31m---------------------------------------------------------------------------\u001b[39m",
      "\u001b[31mTypeError\u001b[39m                                 Traceback (most recent call last)",
      "\u001b[36mCell\u001b[39m\u001b[36m \u001b[39m\u001b[32mIn[7]\u001b[39m\u001b[32m, line 55\u001b[39m\n\u001b[32m     47\u001b[39m config_list = [\n\u001b[32m     48\u001b[39m     {\n\u001b[32m     49\u001b[39m         \u001b[33m\"\u001b[39m\u001b[33mmodel\u001b[39m\u001b[33m\"\u001b[39m: \u001b[33m\"\u001b[39m\u001b[33mgpt-4o\u001b[39m\u001b[33m\"\u001b[39m, \n\u001b[32m     50\u001b[39m         \u001b[33m\"\u001b[39m\u001b[33mapi_key\u001b[39m\u001b[33m\"\u001b[39m: os.getenv(\u001b[33m\"\u001b[39m\u001b[33mOPENAI_API_KEY2\u001b[39m\u001b[33m\"\u001b[39m)\n\u001b[32m     51\u001b[39m     }\n\u001b[32m     52\u001b[39m ]\n\u001b[32m     54\u001b[39m \u001b[38;5;66;03m# The Workbench manages the tools and execution environment.\u001b[39;00m\n\u001b[32m---> \u001b[39m\u001b[32m55\u001b[39m workbench = \u001b[43mWorkbench\u001b[49m\u001b[43m(\u001b[49m\u001b[43mwork_dir\u001b[49m\u001b[43m=\u001b[49m\u001b[33;43m\"\u001b[39;49m\u001b[33;43mcoding\u001b[39;49m\u001b[33;43m\"\u001b[39;49m\u001b[43m,\u001b[49m\u001b[43m \u001b[49m\u001b[43mtools\u001b[49m\u001b[43m=\u001b[49m\u001b[43m[\u001b[49m\u001b[43mparse_bank_statement\u001b[49m\u001b[43m]\u001b[49m\u001b[43m)\u001b[49m\n\u001b[32m     57\u001b[39m \u001b[38;5;66;03m# The UserProxyAgent acts as the executor.\u001b[39;00m\n\u001b[32m     58\u001b[39m user_proxy = UserProxyAgent(\n\u001b[32m     59\u001b[39m     name=\u001b[33m\"\u001b[39m\u001b[33mUserProxy\u001b[39m\u001b[33m\"\u001b[39m,\n\u001b[32m     60\u001b[39m     human_input_mode=\u001b[33m\"\u001b[39m\u001b[33mNEVER\u001b[39m\u001b[33m\"\u001b[39m,\n\u001b[32m     61\u001b[39m     max_consecutive_auto_reply=\u001b[32m5\u001b[39m,\n\u001b[32m     62\u001b[39m     workbench=workbench,\n\u001b[32m     63\u001b[39m )\n",
      "\u001b[31mTypeError\u001b[39m: Workbench() takes no arguments"
     ]
    }
   ],
   "source": [
    "# --- 1. Imports ---\n",
    "# Standard library and Pydantic\n",
    "import os\n",
    "import json\n",
    "from typing import List, Optional\n",
    "from pydantic import BaseModel, Field\n",
    "\n",
    "# Core AutoGen components with explicit paths\n",
    "from autogen_agentchat.agents import AssistantAgent, UserProxyAgent\n",
    "from autogen_core.tools import Workbench\n",
    "\n",
    "# --- 2. Define the Desired JSON Structure ---\n",
    "# This defines the schema for each individual transaction.\n",
    "class Transaction(BaseModel):\n",
    "    cardholder: str = Field(description=\"The name of the cardholder who made the transaction.\")\n",
    "    sale_date: Optional[str] = Field(description=\"The date the transaction was made, e.g., '07/15'\")\n",
    "    post_date: str = Field(description=\"The date the transaction was posted to the account, e.g., '07/16'\")\n",
    "    description: str = Field(description=\"The description of the transaction\")\n",
    "    transaction_amount: float = Field(description=\"The amount. Debits (purchases) must be negative, credits (payments) must be positive.\")\n",
    "\n",
    "# This is the main structure for the entire statement.\n",
    "class StatementData(BaseModel):\n",
    "    bank_name: str = Field(description=\"The name of the bank or card issuer, e.g., 'Costco Anywhere Visa Card by Citi'\")\n",
    "    transactions: List[Transaction] = Field(description=\"A list of all transactions from the statement\")\n",
    "\n",
    "# --- 3. Create the Python Function (The 'Tool') ---\n",
    "def parse_bank_statement(bank_name: str, transactions: List[dict]) -> str:\n",
    "    \"\"\"\n",
    "    Parses raw bank statement data into a structured JSON format using Pydantic models.\n",
    "    \n",
    "    Args:\n",
    "        bank_name: The name of the bank or card issuer.\n",
    "        transactions: A list of dictionaries, each representing a transaction.\n",
    "                      Each dictionary must contain all fields for the Transaction model.\n",
    "                      \n",
    "    Returns:\n",
    "        A JSON string representation of the structured data.\n",
    "    \"\"\"\n",
    "    statement = StatementData(\n",
    "        bank_name=bank_name,\n",
    "        transactions=[Transaction(**t) for t in transactions]\n",
    "    )\n",
    "    return statement.model_dump_json(indent=2)\n",
    "\n",
    "# --- 4. Configure AutoGen Agents and Environment ---\n",
    "# Ensure your OPENAI_API_KEY is set as an environment variable\n",
    "config_list = [\n",
    "    {\n",
    "        \"model\": \"gpt-4o\", \n",
    "        \"api_key\": os.getenv(\"OPENAI_API_KEY2\")\n",
    "    }\n",
    "]\n",
    "\n",
    "# The Workbench manages the tools and execution environment.\n",
    "workbench = Workbench(work_dir=\"coding\", tools=[parse_bank_statement])\n",
    "\n",
    "# The UserProxyAgent acts as the executor.\n",
    "user_proxy = UserProxyAgent(\n",
    "    name=\"UserProxy\",\n",
    "    human_input_mode=\"NEVER\",\n",
    "    max_consecutive_auto_reply=5,\n",
    "    workbench=workbench,\n",
    ")\n",
    "\n",
    "# The AssistantAgent acts as the planner, deciding to use the tool.\n",
    "parser_assistant = AssistantAgent(\n",
    "    name=\"ParserAssistant\",\n",
    "    system_message=\"\"\"You are an expert financial data extractor. Your task is to meticulously analyze the user's text and use the `parse_bank_statement` tool to convert it into a structured JSON format.\n",
    "\n",
    "    CRITICAL INSTRUCTIONS:\n",
    "    1.  **Cardholders:** The statement has multiple cardholders (e.g., MOHIT AGGARWAL, HIMANI SOOD). You MUST associate each transaction with the correct cardholder name it's listed under.\n",
    "    2.  **Transaction Amounts:** You MUST correctly interpret the signs. \n",
    "        -   Purchases are DEBITS and must be represented as **NEGATIVE** numbers.\n",
    "        -   Payments and Credits are CREDITS and must be represented as **POSITIVE** numbers. If a payment is shown as '-$1,041.44', its value is 1041.44.\n",
    "    3.  **Data Focus:** Ignore all summary data, ads, addresses, and page markers. Focus ONLY on the detailed list of transactions.\"\"\",\n",
    "    llm_config={\"config_list\": config_list},\n",
    "    tools=[parse_bank_statement],\n",
    ")\n",
    "\n",
    "# --- 5. Your Input String is Loaded Here ---\n",
    "pdf_text_string = parsed_text\n",
    "\n",
    "# --- 6. Initiate the Conversation and Print the Final Output ---\n",
    "user_proxy.initiate_chat(\n",
    "    recipient=parser_assistant,\n",
    "    message=f\"Please parse the following bank statement text:\\n\\n{pdf_text_string}\"\n",
    ")\n",
    "\n",
    "final_message = user_proxy.last_message(parser_assistant)\n",
    "final_json_output = final_message.get(\"content\", \"\")\n",
    "\n",
    "print(\"\\n--- Final Parsed JSON Output ---\")\n",
    "print(final_json_output)"
   ]
  },
  {
   "cell_type": "markdown",
   "id": "49e72d60",
   "metadata": {},
   "source": []
  },
  {
   "cell_type": "code",
   "execution_count": 13,
   "id": "37125765",
   "metadata": {},
   "outputs": [],
   "source": [
    "# Install (run once)\n",
    "\n",
    "# ---------------------------\n",
    "# Agent + Code-executor demo\n",
    "# ---------------------------\n",
    "import os, asyncio\n",
    "from autogen_agentchat.agents import AssistantAgent, CodeExecutorAgent\n",
    "from autogen_ext.models.openai import OpenAIChatCompletionClient\n",
    "from autogen_ext.code_executors.local import LocalCommandLineCodeExecutor\n",
    "from autogen_agentchat.teams import RoundRobinGroupChat\n",
    "from autogen_agentchat.conditions import TextMentionTermination, MaxMessageTermination\n",
    "from autogen_agentchat.messages import TextMessage\n",
    "\n",
    "async def run_parse_v0_7_2(statement_text: str):\n",
    "    # 1) model client used by AssistantAgent\n",
    "    model_client = OpenAIChatCompletionClient(\n",
    "        model=\"gpt-4o\", \n",
    "        api_key=os.getenv(\"OPENAI_API_KEY2\")\n",
    "    )\n",
    "\n",
    "    # 2) assistant - this agent will generate parsing code\n",
    "    assistant = AssistantAgent(\n",
    "        name=\"assistant\",\n",
    "        model_client=model_client,\n",
    "        system_message=(\n",
    "            \"You are an expert Python developer. Given a raw multi-line bank statement string, \"\n",
    "            \"produce Python code inside triple-backtick ```python``` blocks that parses the statement \"\n",
    "            \"into a JSON object with keys: account_info, transactions, rewards and also prints a pandas DataFrame \"\n",
    "            \"for transactions. When done, print the JSON and then reply with the single word: TERMINATE\"\n",
    "        ),\n",
    "        reflect_on_tool_use=True,\n",
    "    )\n",
    "\n",
    "    # 3) code executor component (local) — start it before using\n",
    "    code_executor = LocalCommandLineCodeExecutor(work_dir=\"coding\")\n",
    "    await code_executor.start()\n",
    "\n",
    "    # 4) code executor *agent* (do NOT pass llm_config)\n",
    "    code_executor_agent = CodeExecutorAgent(\n",
    "        name=\"code_executor\",\n",
    "        code_executor=code_executor,\n",
    "        # optional: model_client=..., approval_func=..., supported_languages=...\n",
    "        approval_func=None,\n",
    "    )\n",
    "\n",
    "    # 5) team: assistant -> code executor (round-robin). Terminate on 'TERMINATE' or after N messages\n",
    "    termination = TextMentionTermination(\"TERMINATE\") | MaxMessageTermination(6)\n",
    "    team = RoundRobinGroupChat(participants=[assistant, code_executor_agent], termination_condition=termination)\n",
    "\n",
    "    # 6) the task: feed the raw statement and ask for JSON + DataFrame\n",
    "    task_msg = TextMessage(\n",
    "        content=(\n",
    "            \"Parse the bank statement below into JSON & a pandas DataFrame. \"\n",
    "            \"Print the JSON first, then print the DataFrame. End your final response with TERMINATE.\\n\\n\"\n",
    "            f\"{statement_text}\"\n",
    "        ),\n",
    "        source=\"user\",\n",
    "    )\n",
    "\n",
    "    # 7) run the team (synchronous top-level via asyncio)\n",
    "    result = await team.run(task=task_msg)\n",
    "    # final model text available as result.chat_message\n",
    "    print(\"===== AGENT FINAL OUTPUT =====\")\n",
    "    print(result.chat_message.content)\n",
    "\n",
    "    # cleanup\n",
    "    await code_executor.stop()\n",
    "\n"
   ]
  },
  {
   "cell_type": "code",
   "execution_count": null,
   "id": "55540ee1",
   "metadata": {},
   "outputs": [],
   "source": []
  },
  {
   "cell_type": "code",
   "execution_count": 14,
   "id": "e1cfcd45",
   "metadata": {},
   "outputs": [
    {
     "ename": "RuntimeError",
     "evalue": "asyncio.run() cannot be called from a running event loop",
     "output_type": "error",
     "traceback": [
      "\u001b[31m---------------------------------------------------------------------------\u001b[39m",
      "\u001b[31mRuntimeError\u001b[39m                              Traceback (most recent call last)",
      "\u001b[36mCell\u001b[39m\u001b[36m \u001b[39m\u001b[32mIn[14]\u001b[39m\u001b[32m, line 3\u001b[39m\n\u001b[32m      1\u001b[39m \u001b[38;5;66;03m# Usage: replace the string below with your extracted-statement string\u001b[39;00m\n\u001b[32m      2\u001b[39m YOUR_STATEMENT = parsed_text\n\u001b[32m----> \u001b[39m\u001b[32m3\u001b[39m \u001b[43masyncio\u001b[49m\u001b[43m.\u001b[49m\u001b[43mrun\u001b[49m\u001b[43m(\u001b[49m\u001b[43mrun_parse_v0_7_2\u001b[49m\u001b[43m(\u001b[49m\u001b[43mYOUR_STATEMENT\u001b[49m\u001b[43m)\u001b[49m\u001b[43m)\u001b[49m\n",
      "\u001b[36mFile \u001b[39m\u001b[32m~/Documents/GitHub/personal_finance_tracker/venv/lib/python3.12/asyncio/runners.py:191\u001b[39m, in \u001b[36mrun\u001b[39m\u001b[34m(main, debug, loop_factory)\u001b[39m\n\u001b[32m    161\u001b[39m \u001b[38;5;250m\u001b[39m\u001b[33;03m\"\"\"Execute the coroutine and return the result.\u001b[39;00m\n\u001b[32m    162\u001b[39m \n\u001b[32m    163\u001b[39m \u001b[33;03mThis function runs the passed coroutine, taking care of\u001b[39;00m\n\u001b[32m   (...)\u001b[39m\u001b[32m    187\u001b[39m \u001b[33;03m    asyncio.run(main())\u001b[39;00m\n\u001b[32m    188\u001b[39m \u001b[33;03m\"\"\"\u001b[39;00m\n\u001b[32m    189\u001b[39m \u001b[38;5;28;01mif\u001b[39;00m events._get_running_loop() \u001b[38;5;129;01mis\u001b[39;00m \u001b[38;5;129;01mnot\u001b[39;00m \u001b[38;5;28;01mNone\u001b[39;00m:\n\u001b[32m    190\u001b[39m     \u001b[38;5;66;03m# fail fast with short traceback\u001b[39;00m\n\u001b[32m--> \u001b[39m\u001b[32m191\u001b[39m     \u001b[38;5;28;01mraise\u001b[39;00m \u001b[38;5;167;01mRuntimeError\u001b[39;00m(\n\u001b[32m    192\u001b[39m         \u001b[33m\"\u001b[39m\u001b[33masyncio.run() cannot be called from a running event loop\u001b[39m\u001b[33m\"\u001b[39m)\n\u001b[32m    194\u001b[39m \u001b[38;5;28;01mwith\u001b[39;00m Runner(debug=debug, loop_factory=loop_factory) \u001b[38;5;28;01mas\u001b[39;00m runner:\n\u001b[32m    195\u001b[39m     \u001b[38;5;28;01mreturn\u001b[39;00m runner.run(main)\n",
      "\u001b[31mRuntimeError\u001b[39m: asyncio.run() cannot be called from a running event loop"
     ]
    }
   ],
   "source": [
    "# Usage: replace the string below with your extracted-statement string\n",
    "YOUR_STATEMENT = parsed_text\n",
    "asyncio.run(run_parse_v0_7_2(YOUR_STATEMENT))"
   ]
  }
 ],
 "metadata": {
  "kernelspec": {
   "display_name": "Python 3",
   "language": "python",
   "name": "python3"
  },
  "language_info": {
   "codemirror_mode": {
    "name": "ipython",
    "version": 3
   },
   "file_extension": ".py",
   "mimetype": "text/x-python",
   "name": "python",
   "nbconvert_exporter": "python",
   "pygments_lexer": "ipython3",
   "version": "3.12.11"
  }
 },
 "nbformat": 4,
 "nbformat_minor": 5
}
